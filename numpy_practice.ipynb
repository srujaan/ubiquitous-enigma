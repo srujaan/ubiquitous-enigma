{
  "nbformat": 4,
  "nbformat_minor": 0,
  "metadata": {
    "colab": {
      "name": "numpy_practice.ipynb",
      "provenance": [],
      "authorship_tag": "ABX9TyPBhJy5AjyXdx2UcRAC74IR",
      "include_colab_link": true
    },
    "kernelspec": {
      "name": "python3",
      "display_name": "Python 3"
    }
  },
  "cells": [
    {
      "cell_type": "markdown",
      "metadata": {
        "id": "view-in-github",
        "colab_type": "text"
      },
      "source": [
        "<a href=\"https://colab.research.google.com/github/srujaan/ubiquitous-enigma/blob/master/numpy_practice.ipynb\" target=\"_parent\"><img src=\"https://colab.research.google.com/assets/colab-badge.svg\" alt=\"Open In Colab\"/></a>"
      ]
    },
    {
      "cell_type": "code",
      "metadata": {
        "id": "6GkqQfd6LSvc"
      },
      "source": [
        "import numpy as np"
      ],
      "execution_count": 1,
      "outputs": []
    },
    {
      "cell_type": "code",
      "metadata": {
        "id": "ZDntpCyILZrB",
        "outputId": "71bb0574-7628-47c1-af8b-eb12efa609a9",
        "colab": {
          "base_uri": "https://localhost:8080/"
        }
      },
      "source": [
        "a = np.array([1,2,3],dtype='int32')\n",
        "a"
      ],
      "execution_count": 2,
      "outputs": [
        {
          "output_type": "execute_result",
          "data": {
            "text/plain": [
              "array([1, 2, 3], dtype=int32)"
            ]
          },
          "metadata": {
            "tags": []
          },
          "execution_count": 2
        }
      ]
    },
    {
      "cell_type": "code",
      "metadata": {
        "id": "zlal2IuOQXcW",
        "outputId": "484b359c-cb82-403f-ea1a-17bca31f0c20",
        "colab": {
          "base_uri": "https://localhost:8080/"
        }
      },
      "source": [
        "b = np.array([[1,2,3,4,5,6], [7,8,9,10,11,12]])\n",
        "b"
      ],
      "execution_count": 3,
      "outputs": [
        {
          "output_type": "execute_result",
          "data": {
            "text/plain": [
              "array([[ 1,  2,  3,  4,  5,  6],\n",
              "       [ 7,  8,  9, 10, 11, 12]])"
            ]
          },
          "metadata": {
            "tags": []
          },
          "execution_count": 3
        }
      ]
    },
    {
      "cell_type": "code",
      "metadata": {
        "id": "b6oD73SxRfrS",
        "outputId": "d60020b6-c9a1-4b2c-fc35-7a7ccec0b6ee",
        "colab": {
          "base_uri": "https://localhost:8080/"
        }
      },
      "source": [
        "# get dimension\n",
        "b.ndim"
      ],
      "execution_count": 4,
      "outputs": [
        {
          "output_type": "execute_result",
          "data": {
            "text/plain": [
              "2"
            ]
          },
          "metadata": {
            "tags": []
          },
          "execution_count": 4
        }
      ]
    },
    {
      "cell_type": "code",
      "metadata": {
        "id": "xg-roovDgQzW",
        "outputId": "e095ca27-abab-4664-9f86-7fb0c976469e",
        "colab": {
          "base_uri": "https://localhost:8080/"
        }
      },
      "source": [
        "# get shape\n",
        "b.shape"
      ],
      "execution_count": 5,
      "outputs": [
        {
          "output_type": "execute_result",
          "data": {
            "text/plain": [
              "(2, 6)"
            ]
          },
          "metadata": {
            "tags": []
          },
          "execution_count": 5
        }
      ]
    },
    {
      "cell_type": "code",
      "metadata": {
        "id": "ZSlsTAIOgrz4",
        "outputId": "07624800-1a4f-43c4-8c12-5d76bec95b14",
        "colab": {
          "base_uri": "https://localhost:8080/"
        }
      },
      "source": [
        "a.shape"
      ],
      "execution_count": 6,
      "outputs": [
        {
          "output_type": "execute_result",
          "data": {
            "text/plain": [
              "(3,)"
            ]
          },
          "metadata": {
            "tags": []
          },
          "execution_count": 6
        }
      ]
    },
    {
      "cell_type": "code",
      "metadata": {
        "id": "kTGe7wkAgyI8",
        "outputId": "eddcc93d-8848-4fda-9e2a-014f0c73859e",
        "colab": {
          "base_uri": "https://localhost:8080/"
        }
      },
      "source": [
        "# get size\n",
        "b.itemsize"
      ],
      "execution_count": 7,
      "outputs": [
        {
          "output_type": "execute_result",
          "data": {
            "text/plain": [
              "8"
            ]
          },
          "metadata": {
            "tags": []
          },
          "execution_count": 7
        }
      ]
    },
    {
      "cell_type": "code",
      "metadata": {
        "id": "h9ROk7y-g6p5",
        "outputId": "670cadf1-4b65-482e-d988-40fac8bdc5aa",
        "colab": {
          "base_uri": "https://localhost:8080/"
        }
      },
      "source": [
        "# get total size\n",
        "b.nbytes"
      ],
      "execution_count": 8,
      "outputs": [
        {
          "output_type": "execute_result",
          "data": {
            "text/plain": [
              "96"
            ]
          },
          "metadata": {
            "tags": []
          },
          "execution_count": 8
        }
      ]
    },
    {
      "cell_type": "code",
      "metadata": {
        "id": "w4z0BKzohavb",
        "outputId": "7b6f9b5e-6574-4305-92db-e8f87fc138d0",
        "colab": {
          "base_uri": "https://localhost:8080/"
        }
      },
      "source": [
        "a.nbytes"
      ],
      "execution_count": 9,
      "outputs": [
        {
          "output_type": "execute_result",
          "data": {
            "text/plain": [
              "12"
            ]
          },
          "metadata": {
            "tags": []
          },
          "execution_count": 9
        }
      ]
    },
    {
      "cell_type": "code",
      "metadata": {
        "id": "Bc-N4HdbhiSr",
        "outputId": "8acccde3-90b0-4698-e160-825e3e5e867a",
        "colab": {
          "base_uri": "https://localhost:8080/"
        }
      },
      "source": [
        "# get number of elements\n",
        "a.size"
      ],
      "execution_count": 10,
      "outputs": [
        {
          "output_type": "execute_result",
          "data": {
            "text/plain": [
              "3"
            ]
          },
          "metadata": {
            "tags": []
          },
          "execution_count": 10
        }
      ]
    },
    {
      "cell_type": "markdown",
      "metadata": {
        "id": "fayHwelThuzr"
      },
      "source": [
        "### Accessing/Changing specific elements, rows, columns, etc"
      ]
    },
    {
      "cell_type": "code",
      "metadata": {
        "id": "cjywSm2zjQbp",
        "outputId": "2ec34fd7-d388-4579-e48a-c1aef9b91b33",
        "colab": {
          "base_uri": "https://localhost:8080/"
        }
      },
      "source": [
        "a = np.array([[1,2,3,4,5,6,7,8], [9,10,11,12,13,14,15,16]])\n",
        "a"
      ],
      "execution_count": 11,
      "outputs": [
        {
          "output_type": "execute_result",
          "data": {
            "text/plain": [
              "array([[ 1,  2,  3,  4,  5,  6,  7,  8],\n",
              "       [ 9, 10, 11, 12, 13, 14, 15, 16]])"
            ]
          },
          "metadata": {
            "tags": []
          },
          "execution_count": 11
        }
      ]
    },
    {
      "cell_type": "code",
      "metadata": {
        "id": "EL5Xc_Syjo0u",
        "outputId": "2eca679c-c31c-4e31-9cdf-658be042c8ed",
        "colab": {
          "base_uri": "https://localhost:8080/"
        }
      },
      "source": [
        "a.shape, a.size, a.ndim"
      ],
      "execution_count": 12,
      "outputs": [
        {
          "output_type": "execute_result",
          "data": {
            "text/plain": [
              "((2, 8), 16, 2)"
            ]
          },
          "metadata": {
            "tags": []
          },
          "execution_count": 12
        }
      ]
    },
    {
      "cell_type": "code",
      "metadata": {
        "id": "grpqggkmjrjQ",
        "outputId": "7922a75a-0356-4977-c175-a8f6a25fa478",
        "colab": {
          "base_uri": "https://localhost:8080/"
        }
      },
      "source": [
        "# get a specific element [r, c]\n",
        "a[0, 5]"
      ],
      "execution_count": 13,
      "outputs": [
        {
          "output_type": "execute_result",
          "data": {
            "text/plain": [
              "6"
            ]
          },
          "metadata": {
            "tags": []
          },
          "execution_count": 13
        }
      ]
    },
    {
      "cell_type": "code",
      "metadata": {
        "id": "TtqLvxF_k8Lh",
        "outputId": "eec4bf40-af99-4ffd-d8a2-d1611a9b737e",
        "colab": {
          "base_uri": "https://localhost:8080/"
        }
      },
      "source": [
        "a[1,-2]"
      ],
      "execution_count": 14,
      "outputs": [
        {
          "output_type": "execute_result",
          "data": {
            "text/plain": [
              "15"
            ]
          },
          "metadata": {
            "tags": []
          },
          "execution_count": 14
        }
      ]
    },
    {
      "cell_type": "code",
      "metadata": {
        "id": "aEtKxhUklkQs",
        "outputId": "1974ff5d-5a20-4866-d78f-1e323074427d",
        "colab": {
          "base_uri": "https://localhost:8080/"
        }
      },
      "source": [
        "# get a specific row\n",
        "a[0, :]"
      ],
      "execution_count": 15,
      "outputs": [
        {
          "output_type": "execute_result",
          "data": {
            "text/plain": [
              "array([1, 2, 3, 4, 5, 6, 7, 8])"
            ]
          },
          "metadata": {
            "tags": []
          },
          "execution_count": 15
        }
      ]
    },
    {
      "cell_type": "code",
      "metadata": {
        "id": "JHTa-Baol6OX",
        "outputId": "cfc9541f-4a45-42f4-a22a-ea428f4590d2",
        "colab": {
          "base_uri": "https://localhost:8080/"
        }
      },
      "source": [
        "# get a specific column\n",
        "a[:, 1]"
      ],
      "execution_count": 16,
      "outputs": [
        {
          "output_type": "execute_result",
          "data": {
            "text/plain": [
              "array([ 2, 10])"
            ]
          },
          "metadata": {
            "tags": []
          },
          "execution_count": 16
        }
      ]
    },
    {
      "cell_type": "code",
      "metadata": {
        "id": "RSfZn9jLnXE-",
        "outputId": "4649ca37-1e97-416a-8eba-ef47605729c2",
        "colab": {
          "base_uri": "https://localhost:8080/"
        }
      },
      "source": [
        "a[:, 3], a[:, 5]"
      ],
      "execution_count": 17,
      "outputs": [
        {
          "output_type": "execute_result",
          "data": {
            "text/plain": [
              "(array([ 4, 12]), array([ 6, 14]))"
            ]
          },
          "metadata": {
            "tags": []
          },
          "execution_count": 17
        }
      ]
    },
    {
      "cell_type": "code",
      "metadata": {
        "id": "1ON5CtL-neDt",
        "outputId": "65a094d3-5f75-44c7-e252-a6a0bfbcadaa",
        "colab": {
          "base_uri": "https://localhost:8080/"
        }
      },
      "source": [
        "a[1, 4]"
      ],
      "execution_count": 18,
      "outputs": [
        {
          "output_type": "execute_result",
          "data": {
            "text/plain": [
              "13"
            ]
          },
          "metadata": {
            "tags": []
          },
          "execution_count": 18
        }
      ]
    },
    {
      "cell_type": "code",
      "metadata": {
        "id": "wIcJkd2Xn9cF",
        "outputId": "e939875c-f413-4a0e-dcdc-583f0789ee05",
        "colab": {
          "base_uri": "https://localhost:8080/"
        }
      },
      "source": [
        "# getting a little more fancy [startindex:endindex:stepsize]\n",
        "a[:, 1:-1: 2]"
      ],
      "execution_count": 19,
      "outputs": [
        {
          "output_type": "execute_result",
          "data": {
            "text/plain": [
              "array([[ 2,  4,  6],\n",
              "       [10, 12, 14]])"
            ]
          },
          "metadata": {
            "tags": []
          },
          "execution_count": 19
        }
      ]
    },
    {
      "cell_type": "code",
      "metadata": {
        "id": "EMoPSPAPoryW",
        "outputId": "57ca3df4-9094-45ac-f6c2-ddfc6ab75dbb",
        "colab": {
          "base_uri": "https://localhost:8080/"
        }
      },
      "source": [
        "a[1, :-1: 2]"
      ],
      "execution_count": 20,
      "outputs": [
        {
          "output_type": "execute_result",
          "data": {
            "text/plain": [
              "array([ 9, 11, 13, 15])"
            ]
          },
          "metadata": {
            "tags": []
          },
          "execution_count": 20
        }
      ]
    },
    {
      "cell_type": "code",
      "metadata": {
        "id": "f3xhBMqKp4-u",
        "outputId": "ec59e0dd-f80e-4841-b154-4486b357a2d2",
        "colab": {
          "base_uri": "https://localhost:8080/"
        }
      },
      "source": [
        "a[:, 1:4: 1]"
      ],
      "execution_count": 21,
      "outputs": [
        {
          "output_type": "execute_result",
          "data": {
            "text/plain": [
              "array([[ 2,  3,  4],\n",
              "       [10, 11, 12]])"
            ]
          },
          "metadata": {
            "tags": []
          },
          "execution_count": 21
        }
      ]
    },
    {
      "cell_type": "code",
      "metadata": {
        "id": "9Wmpxa9Xrkef",
        "outputId": "719fd400-6024-4bfe-f742-4e576b2a3ec6",
        "colab": {
          "base_uri": "https://localhost:8080/"
        }
      },
      "source": [
        "# get a specific column\n",
        "a[:, 2]"
      ],
      "execution_count": 22,
      "outputs": [
        {
          "output_type": "execute_result",
          "data": {
            "text/plain": [
              "array([ 3, 11])"
            ]
          },
          "metadata": {
            "tags": []
          },
          "execution_count": 22
        }
      ]
    },
    {
      "cell_type": "code",
      "metadata": {
        "id": "aDzf9iNOu9hM"
      },
      "source": [
        "a[1,5] = 20"
      ],
      "execution_count": 23,
      "outputs": []
    },
    {
      "cell_type": "code",
      "metadata": {
        "id": "eXFbpqotvDzG",
        "outputId": "10b3a360-cadc-4461-c18d-f8c160aaa8be",
        "colab": {
          "base_uri": "https://localhost:8080/"
        }
      },
      "source": [
        "a\n"
      ],
      "execution_count": 24,
      "outputs": [
        {
          "output_type": "execute_result",
          "data": {
            "text/plain": [
              "array([[ 1,  2,  3,  4,  5,  6,  7,  8],\n",
              "       [ 9, 10, 11, 12, 13, 20, 15, 16]])"
            ]
          },
          "metadata": {
            "tags": []
          },
          "execution_count": 24
        }
      ]
    },
    {
      "cell_type": "code",
      "metadata": {
        "id": "wt8wNILTvEfd",
        "outputId": "ae7d97a2-83ce-4128-8b84-dfe21f135205",
        "colab": {
          "base_uri": "https://localhost:8080/"
        }
      },
      "source": [
        "a[:, 3] = [99, 88]\n",
        "print(a)"
      ],
      "execution_count": 25,
      "outputs": [
        {
          "output_type": "stream",
          "text": [
            "[[ 1  2  3 99  5  6  7  8]\n",
            " [ 9 10 11 88 13 20 15 16]]\n"
          ],
          "name": "stdout"
        }
      ]
    },
    {
      "cell_type": "markdown",
      "metadata": {
        "id": "bJNWvj6ivTjd"
      },
      "source": [
        "3-D array example"
      ]
    },
    {
      "cell_type": "code",
      "metadata": {
        "id": "Gb-MZmXgvbms",
        "outputId": "51ae5587-1f01-42d5-be01-f99e1668a3cd",
        "colab": {
          "base_uri": "https://localhost:8080/"
        }
      },
      "source": [
        "b = np.array([[[1,2], [3,4], [5,6], [7,8]]])\n",
        "print(b)"
      ],
      "execution_count": 26,
      "outputs": [
        {
          "output_type": "stream",
          "text": [
            "[[[1 2]\n",
            "  [3 4]\n",
            "  [5 6]\n",
            "  [7 8]]]\n"
          ],
          "name": "stdout"
        }
      ]
    },
    {
      "cell_type": "code",
      "metadata": {
        "id": "_xSqWJdgvpQN",
        "outputId": "5b747cb7-61c3-4289-adfd-830dcbacd6f0",
        "colab": {
          "base_uri": "https://localhost:8080/"
        }
      },
      "source": [
        "b.shape, b.size, b.ndim"
      ],
      "execution_count": 27,
      "outputs": [
        {
          "output_type": "execute_result",
          "data": {
            "text/plain": [
              "((1, 4, 2), 8, 3)"
            ]
          },
          "metadata": {
            "tags": []
          },
          "execution_count": 27
        }
      ]
    },
    {
      "cell_type": "code",
      "metadata": {
        "id": "svh2Iq1sv9K3",
        "outputId": "38cfee9e-971f-4009-edb4-6c735567631e",
        "colab": {
          "base_uri": "https://localhost:8080/"
        }
      },
      "source": [
        "# get specific element (work outside in)\n",
        "b[0,3,1]"
      ],
      "execution_count": 28,
      "outputs": [
        {
          "output_type": "execute_result",
          "data": {
            "text/plain": [
              "8"
            ]
          },
          "metadata": {
            "tags": []
          },
          "execution_count": 28
        }
      ]
    },
    {
      "cell_type": "code",
      "metadata": {
        "id": "qgjlKf7M0X7k",
        "outputId": "38be52dd-8c52-4b42-d1b3-41849c676be9",
        "colab": {
          "base_uri": "https://localhost:8080/"
        }
      },
      "source": [
        "# replace\n",
        "b[:,1,:] = [9,9]\n",
        "b"
      ],
      "execution_count": 29,
      "outputs": [
        {
          "output_type": "execute_result",
          "data": {
            "text/plain": [
              "array([[[1, 2],\n",
              "        [9, 9],\n",
              "        [5, 6],\n",
              "        [7, 8]]])"
            ]
          },
          "metadata": {
            "tags": []
          },
          "execution_count": 29
        }
      ]
    },
    {
      "cell_type": "markdown",
      "metadata": {
        "id": "j_WAz_aA1EOE"
      },
      "source": [
        "### Initialize Different Types of Arrays"
      ]
    },
    {
      "cell_type": "code",
      "metadata": {
        "id": "vTSiGmIv13ke",
        "outputId": "6c03d9aa-8f32-4d5c-f466-c27623909c66",
        "colab": {
          "base_uri": "https://localhost:8080/"
        }
      },
      "source": [
        "# All 0s matrix\n",
        "z = np.zeros((2,2))\n",
        "z"
      ],
      "execution_count": 30,
      "outputs": [
        {
          "output_type": "execute_result",
          "data": {
            "text/plain": [
              "array([[0., 0.],\n",
              "       [0., 0.]])"
            ]
          },
          "metadata": {
            "tags": []
          },
          "execution_count": 30
        }
      ]
    },
    {
      "cell_type": "code",
      "metadata": {
        "id": "yk7J5JGy2ID-",
        "outputId": "fbafb3d3-1ab5-46f6-de52-df40173e853c",
        "colab": {
          "base_uri": "https://localhost:8080/"
        }
      },
      "source": [
        "z.shape, z.ndim, z.size"
      ],
      "execution_count": 31,
      "outputs": [
        {
          "output_type": "execute_result",
          "data": {
            "text/plain": [
              "((2, 2), 2, 4)"
            ]
          },
          "metadata": {
            "tags": []
          },
          "execution_count": 31
        }
      ]
    },
    {
      "cell_type": "code",
      "metadata": {
        "id": "NzoqLSHw2QFc",
        "outputId": "8191ad88-158b-4e48-8ee1-57e0de79919e",
        "colab": {
          "base_uri": "https://localhost:8080/"
        }
      },
      "source": [
        "# All 1s matrix\n",
        "o = np.ones((1,6),dtype='int32')\n",
        "o"
      ],
      "execution_count": 32,
      "outputs": [
        {
          "output_type": "execute_result",
          "data": {
            "text/plain": [
              "array([[1, 1, 1, 1, 1, 1]], dtype=int32)"
            ]
          },
          "metadata": {
            "tags": []
          },
          "execution_count": 32
        }
      ]
    },
    {
      "cell_type": "code",
      "metadata": {
        "id": "dWANpgNI2588",
        "outputId": "2285ee77-47ae-41c0-8c9c-8dce10f24a25",
        "colab": {
          "base_uri": "https://localhost:8080/"
        }
      },
      "source": [
        "o.shape, o.ndim, o.size"
      ],
      "execution_count": 33,
      "outputs": [
        {
          "output_type": "execute_result",
          "data": {
            "text/plain": [
              "((1, 6), 2, 6)"
            ]
          },
          "metadata": {
            "tags": []
          },
          "execution_count": 33
        }
      ]
    },
    {
      "cell_type": "code",
      "metadata": {
        "id": "BCRb-jXy3Rly",
        "outputId": "8e5bd965-dec5-4854-fb9e-674d8450a617",
        "colab": {
          "base_uri": "https://localhost:8080/"
        }
      },
      "source": [
        "# Any other full\n",
        "f = np.full((2,2),7,'int32')\n",
        "f"
      ],
      "execution_count": 34,
      "outputs": [
        {
          "output_type": "execute_result",
          "data": {
            "text/plain": [
              "array([[7, 7],\n",
              "       [7, 7]], dtype=int32)"
            ]
          },
          "metadata": {
            "tags": []
          },
          "execution_count": 34
        }
      ]
    },
    {
      "cell_type": "code",
      "metadata": {
        "id": "ODXOBEno4W2y",
        "outputId": "75161bbf-ce9a-4730-9953-760a41c05f8d",
        "colab": {
          "base_uri": "https://localhost:8080/"
        }
      },
      "source": [
        "# Random decimal numbers\n",
        "np.random.rand(2,3)"
      ],
      "execution_count": 35,
      "outputs": [
        {
          "output_type": "execute_result",
          "data": {
            "text/plain": [
              "array([[0.04869332, 0.21358974, 0.05442651],\n",
              "       [0.77134141, 0.22275197, 0.92885813]])"
            ]
          },
          "metadata": {
            "tags": []
          },
          "execution_count": 35
        }
      ]
    },
    {
      "cell_type": "code",
      "metadata": {
        "id": "2CrB8GyK476B",
        "outputId": "462611f0-660a-4b10-f426-390cae1bb7dc",
        "colab": {
          "base_uri": "https://localhost:8080/"
        }
      },
      "source": [
        "# Random integer value\n",
        "np.random.randint(-2,8,size=(2,3))"
      ],
      "execution_count": 36,
      "outputs": [
        {
          "output_type": "execute_result",
          "data": {
            "text/plain": [
              "array([[-1,  0,  5],\n",
              "       [ 5, -1,  2]])"
            ]
          },
          "metadata": {
            "tags": []
          },
          "execution_count": 36
        }
      ]
    },
    {
      "cell_type": "code",
      "metadata": {
        "id": "pUvHAUZn5hkv",
        "outputId": "f08aff09-3144-41ff-f9a3-40ef0d065963",
        "colab": {
          "base_uri": "https://localhost:8080/"
        }
      },
      "source": [
        "# The identity matrix\n",
        "np.eye(3,dtype='int32')"
      ],
      "execution_count": 37,
      "outputs": [
        {
          "output_type": "execute_result",
          "data": {
            "text/plain": [
              "array([[1, 0, 0],\n",
              "       [0, 1, 0],\n",
              "       [0, 0, 1]], dtype=int32)"
            ]
          },
          "metadata": {
            "tags": []
          },
          "execution_count": 37
        }
      ]
    },
    {
      "cell_type": "code",
      "metadata": {
        "id": "S5JJ_xym511b",
        "outputId": "286f1d10-6153-4f34-8401-e42d585183d5",
        "colab": {
          "base_uri": "https://localhost:8080/"
        }
      },
      "source": [
        "op = np.ones((6,6), dtype='int32')\n",
        "op"
      ],
      "execution_count": 38,
      "outputs": [
        {
          "output_type": "execute_result",
          "data": {
            "text/plain": [
              "array([[1, 1, 1, 1, 1, 1],\n",
              "       [1, 1, 1, 1, 1, 1],\n",
              "       [1, 1, 1, 1, 1, 1],\n",
              "       [1, 1, 1, 1, 1, 1],\n",
              "       [1, 1, 1, 1, 1, 1],\n",
              "       [1, 1, 1, 1, 1, 1]], dtype=int32)"
            ]
          },
          "metadata": {
            "tags": []
          },
          "execution_count": 38
        }
      ]
    },
    {
      "cell_type": "code",
      "metadata": {
        "id": "XVd7Fb6u6KiA"
      },
      "source": [
        "op[1:-1, 1:-1] = 9"
      ],
      "execution_count": 39,
      "outputs": []
    },
    {
      "cell_type": "code",
      "metadata": {
        "id": "2ka8VV9P7pMs",
        "outputId": "7425014c-9a69-40ee-8c3f-d52ab9dcc819",
        "colab": {
          "base_uri": "https://localhost:8080/"
        }
      },
      "source": [
        "op[2:4, 2:4] = [0,0]\n",
        "op"
      ],
      "execution_count": 40,
      "outputs": [
        {
          "output_type": "execute_result",
          "data": {
            "text/plain": [
              "array([[1, 1, 1, 1, 1, 1],\n",
              "       [1, 9, 9, 9, 9, 1],\n",
              "       [1, 9, 0, 0, 9, 1],\n",
              "       [1, 9, 0, 0, 9, 1],\n",
              "       [1, 9, 9, 9, 9, 1],\n",
              "       [1, 1, 1, 1, 1, 1]], dtype=int32)"
            ]
          },
          "metadata": {
            "tags": []
          },
          "execution_count": 40
        }
      ]
    },
    {
      "cell_type": "code",
      "metadata": {
        "id": "0SH2G0J68OIF"
      },
      "source": [
        "op[2:4, 2:4] = np.identity(2,dtype='int32')"
      ],
      "execution_count": 41,
      "outputs": []
    },
    {
      "cell_type": "code",
      "metadata": {
        "id": "SYAdC2ro9mSY",
        "outputId": "cdb64459-39f4-4719-b47d-eb77efba1e0e",
        "colab": {
          "base_uri": "https://localhost:8080/"
        }
      },
      "source": [
        "op[2:4, 2:4]"
      ],
      "execution_count": 42,
      "outputs": [
        {
          "output_type": "execute_result",
          "data": {
            "text/plain": [
              "array([[1, 0],\n",
              "       [0, 1]], dtype=int32)"
            ]
          },
          "metadata": {
            "tags": []
          },
          "execution_count": 42
        }
      ]
    },
    {
      "cell_type": "code",
      "metadata": {
        "id": "TUy8f6-m-98J",
        "outputId": "fd11bd47-758f-447d-940f-899401f38f39",
        "colab": {
          "base_uri": "https://localhost:8080/"
        }
      },
      "source": [
        "op"
      ],
      "execution_count": 43,
      "outputs": [
        {
          "output_type": "execute_result",
          "data": {
            "text/plain": [
              "array([[1, 1, 1, 1, 1, 1],\n",
              "       [1, 9, 9, 9, 9, 1],\n",
              "       [1, 9, 1, 0, 9, 1],\n",
              "       [1, 9, 0, 1, 9, 1],\n",
              "       [1, 9, 9, 9, 9, 1],\n",
              "       [1, 1, 1, 1, 1, 1]], dtype=int32)"
            ]
          },
          "metadata": {
            "tags": []
          },
          "execution_count": 43
        }
      ]
    },
    {
      "cell_type": "markdown",
      "metadata": {
        "id": "kZFVcxie_HYs"
      },
      "source": [
        "### Linear Algebra"
      ]
    },
    {
      "cell_type": "code",
      "metadata": {
        "id": "lcxlwNl__sDR",
        "outputId": "e3c19fa2-ead1-4875-f21f-d9ec19bb1375",
        "colab": {
          "base_uri": "https://localhost:8080/"
        }
      },
      "source": [
        "a = np.ones((4,7))\n",
        "print(a, a.shape, a.size)"
      ],
      "execution_count": 44,
      "outputs": [
        {
          "output_type": "stream",
          "text": [
            "[[1. 1. 1. 1. 1. 1. 1.]\n",
            " [1. 1. 1. 1. 1. 1. 1.]\n",
            " [1. 1. 1. 1. 1. 1. 1.]\n",
            " [1. 1. 1. 1. 1. 1. 1.]] (4, 7) 28\n"
          ],
          "name": "stdout"
        }
      ]
    },
    {
      "cell_type": "code",
      "metadata": {
        "id": "xV6oL8bX_8JD",
        "outputId": "2c6dc49c-8b0c-4ae8-d9df-4254e1307d5d",
        "colab": {
          "base_uri": "https://localhost:8080/"
        }
      },
      "source": [
        "b = np.full((7,6),9)\n",
        "print(b, b.shape, b.size)"
      ],
      "execution_count": 45,
      "outputs": [
        {
          "output_type": "stream",
          "text": [
            "[[9 9 9 9 9 9]\n",
            " [9 9 9 9 9 9]\n",
            " [9 9 9 9 9 9]\n",
            " [9 9 9 9 9 9]\n",
            " [9 9 9 9 9 9]\n",
            " [9 9 9 9 9 9]\n",
            " [9 9 9 9 9 9]] (7, 6) 42\n"
          ],
          "name": "stdout"
        }
      ]
    },
    {
      "cell_type": "code",
      "metadata": {
        "id": "ur70sNYxAHsU",
        "outputId": "aeff9380-2dc0-4461-d7b4-9d1e6888623f",
        "colab": {
          "base_uri": "https://localhost:8080/"
        }
      },
      "source": [
        "c =np.matmul(a,b)\n",
        "print(c, c.shape, c.size)"
      ],
      "execution_count": 46,
      "outputs": [
        {
          "output_type": "stream",
          "text": [
            "[[63. 63. 63. 63. 63. 63.]\n",
            " [63. 63. 63. 63. 63. 63.]\n",
            " [63. 63. 63. 63. 63. 63.]\n",
            " [63. 63. 63. 63. 63. 63.]] (4, 6) 24\n"
          ],
          "name": "stdout"
        }
      ]
    },
    {
      "cell_type": "markdown",
      "metadata": {
        "id": "Y-fKrLiYAShJ"
      },
      "source": [
        "### Reorganizing Arrays"
      ]
    },
    {
      "cell_type": "code",
      "metadata": {
        "id": "rTJDbZmeDyaR",
        "outputId": "3ab74dd6-a1c8-45cb-c926-131db8012023",
        "colab": {
          "base_uri": "https://localhost:8080/"
        }
      },
      "source": [
        "before = np.array([[1,2,3,4], [5,6,7,8]])\n",
        "print(before, before.shape)\n",
        "print(before.T, before.T.shape)\n"
      ],
      "execution_count": 47,
      "outputs": [
        {
          "output_type": "stream",
          "text": [
            "[[1 2 3 4]\n",
            " [5 6 7 8]] (2, 4)\n",
            "[[1 5]\n",
            " [2 6]\n",
            " [3 7]\n",
            " [4 8]] (4, 2)\n"
          ],
          "name": "stdout"
        }
      ]
    },
    {
      "cell_type": "code",
      "metadata": {
        "id": "kIa2lr0AEQEi",
        "outputId": "3f1876e9-15f2-473a-9bd2-1cdb1749bf41",
        "colab": {
          "base_uri": "https://localhost:8080/"
        }
      },
      "source": [
        "after = np.reshape(before, newshape=(4,2))\n",
        "after"
      ],
      "execution_count": 48,
      "outputs": [
        {
          "output_type": "execute_result",
          "data": {
            "text/plain": [
              "array([[1, 2],\n",
              "       [3, 4],\n",
              "       [5, 6],\n",
              "       [7, 8]])"
            ]
          },
          "metadata": {
            "tags": []
          },
          "execution_count": 48
        }
      ]
    },
    {
      "cell_type": "code",
      "metadata": {
        "id": "Gp2vQeJAF1ZR",
        "outputId": "a559642f-f3bf-4b4e-c536-2cfba6dd93d8",
        "colab": {
          "base_uri": "https://localhost:8080/"
        }
      },
      "source": [
        "np.arange(3)"
      ],
      "execution_count": 49,
      "outputs": [
        {
          "output_type": "execute_result",
          "data": {
            "text/plain": [
              "array([0, 1, 2])"
            ]
          },
          "metadata": {
            "tags": []
          },
          "execution_count": 49
        }
      ]
    },
    {
      "cell_type": "code",
      "metadata": {
        "id": "jSt4alKDVvtp",
        "outputId": "6f85ef54-ac38-4f89-db9e-7babd2a47ec6",
        "colab": {
          "base_uri": "https://localhost:8080/"
        }
      },
      "source": [
        "np.arange(2,9,2)"
      ],
      "execution_count": 50,
      "outputs": [
        {
          "output_type": "execute_result",
          "data": {
            "text/plain": [
              "array([2, 4, 6, 8])"
            ]
          },
          "metadata": {
            "tags": []
          },
          "execution_count": 50
        }
      ]
    },
    {
      "cell_type": "markdown",
      "metadata": {
        "id": "4og6sk1QV3g6"
      },
      "source": [
        "You can also mix integer indexing with slice indexing. However, doing so will yield an array of lower rank than the original array. Note that this is quite different from the way that MATLAB handles array slicing:"
      ]
    },
    {
      "cell_type": "code",
      "metadata": {
        "id": "Harq8k9PZFlr",
        "outputId": "fc3e71fc-afad-4ffd-d186-7553a7ca7a33",
        "colab": {
          "base_uri": "https://localhost:8080/"
        }
      },
      "source": [
        "# create the rank 2 array with shape (3,4)\n",
        "a = np.array([[1,2,3,4], [5,6,7,8], [9,10,11,12]])\n",
        "a, a.shape"
      ],
      "execution_count": 51,
      "outputs": [
        {
          "output_type": "execute_result",
          "data": {
            "text/plain": [
              "(array([[ 1,  2,  3,  4],\n",
              "        [ 5,  6,  7,  8],\n",
              "        [ 9, 10, 11, 12]]), (3, 4))"
            ]
          },
          "metadata": {
            "tags": []
          },
          "execution_count": 51
        }
      ]
    },
    {
      "cell_type": "code",
      "metadata": {
        "id": "u_dRnT6RZp_W"
      },
      "source": [
        "# Two ways of accessing the data in the middle row of the array.\n",
        "# Mixing integer indexing with slices yields an array of lower rank,\n",
        "# while using only slices yields an array of the same rank as the\n",
        "# original array:"
      ],
      "execution_count": 52,
      "outputs": []
    },
    {
      "cell_type": "code",
      "metadata": {
        "id": "PRQc8MR4ZxwJ",
        "outputId": "284f627f-fd5f-40de-df56-b5dcf302a2ef",
        "colab": {
          "base_uri": "https://localhost:8080/"
        }
      },
      "source": [
        "row_r1 = a[1, :] # Rank 1 view of the second row of a\n",
        "row_r1, row_r1.shape # Prints \"[5 6 7 8] (4,)"
      ],
      "execution_count": 53,
      "outputs": [
        {
          "output_type": "execute_result",
          "data": {
            "text/plain": [
              "(array([5, 6, 7, 8]), (4,))"
            ]
          },
          "metadata": {
            "tags": []
          },
          "execution_count": 53
        }
      ]
    },
    {
      "cell_type": "code",
      "metadata": {
        "id": "qQGP8cBNaH0H",
        "outputId": "2c6ae65a-9275-4972-ea69-ba25f0cbf581",
        "colab": {
          "base_uri": "https://localhost:8080/"
        }
      },
      "source": [
        "row_r2 = a[1:2, :] # Rank 2 view of the second row of a\n",
        "row_r2, row_r2.shape # # Prints \"[[5 6 7 8]] (1, 4)"
      ],
      "execution_count": 54,
      "outputs": [
        {
          "output_type": "execute_result",
          "data": {
            "text/plain": [
              "(array([[5, 6, 7, 8]]), (1, 4))"
            ]
          },
          "metadata": {
            "tags": []
          },
          "execution_count": 54
        }
      ]
    },
    {
      "cell_type": "markdown",
      "metadata": {
        "id": "YqPFNfgCa13o"
      },
      "source": [
        "### We can make the same distinction when accessing columns of"
      ]
    },
    {
      "cell_type": "code",
      "metadata": {
        "id": "5vvFaKO6bIG_",
        "outputId": "90548cc1-073b-41ee-f8a8-816167d0b4ac",
        "colab": {
          "base_uri": "https://localhost:8080/"
        }
      },
      "source": [
        "col_c1 = a[:, 2] # Rank 1 view of the third col of a\n",
        "col_c1, col_c1.shape # prints \"[3,7,11]\" (3,)"
      ],
      "execution_count": 55,
      "outputs": [
        {
          "output_type": "execute_result",
          "data": {
            "text/plain": [
              "(array([ 3,  7, 11]), (3,))"
            ]
          },
          "metadata": {
            "tags": []
          },
          "execution_count": 55
        }
      ]
    },
    {
      "cell_type": "code",
      "metadata": {
        "id": "DoGlCmyHbk_y",
        "outputId": "38c27c86-6544-4371-ae02-3fabda8da924",
        "colab": {
          "base_uri": "https://localhost:8080/"
        }
      },
      "source": [
        "col_c2 = a[:, 2:3]  # Rank 2 view of the third col of a\n",
        "col_c2, col_c2.shape # prints [[3], [7], [11]], (3,1)"
      ],
      "execution_count": 56,
      "outputs": [
        {
          "output_type": "execute_result",
          "data": {
            "text/plain": [
              "(array([[ 3],\n",
              "        [ 7],\n",
              "        [11]]), (3, 1))"
            ]
          },
          "metadata": {
            "tags": []
          },
          "execution_count": 56
        }
      ]
    },
    {
      "cell_type": "markdown",
      "metadata": {
        "id": "EJVo8MCkciIM"
      },
      "source": [
        "# Integer array indexing\n",
        "\n",
        "#### When you index into numpy arrays using slicing, the resulting array view will always be a subarray of the original array. In contrast, integer array indexing allows you to construct arbitrary arrays using the data from another array. Here is an example"
      ]
    },
    {
      "cell_type": "code",
      "metadata": {
        "id": "cL8LwYimdX3v",
        "outputId": "e4b52dfb-326b-4cd5-9d8a-9cb8a981278a",
        "colab": {
          "base_uri": "https://localhost:8080/"
        }
      },
      "source": [
        "a2 = np.array([[1,2], [3,4], [5,6]])\n",
        "\n",
        "# An example of integer array indexing.\n",
        "# The returned array will have shape (3,) and\n",
        "\n",
        "r = (a2[[0, 1, 2], [0, 1, 0]])  # Prints \"[1 4 5]\n",
        "print(r, r.shape)"
      ],
      "execution_count": 57,
      "outputs": [
        {
          "output_type": "stream",
          "text": [
            "[1 4 5] (3,)\n"
          ],
          "name": "stdout"
        }
      ]
    },
    {
      "cell_type": "code",
      "metadata": {
        "id": "gbpEExf_e2eG",
        "outputId": "3b7df079-30c1-44b7-c7e7-2afe601da862",
        "colab": {
          "base_uri": "https://localhost:8080/"
        }
      },
      "source": [
        "# The above example of integer array indexing is equivalent to this:\n",
        "print(np.array([a2[0,0], a2[1,1], a2[2,0]]))"
      ],
      "execution_count": 58,
      "outputs": [
        {
          "output_type": "stream",
          "text": [
            "[1 4 5]\n"
          ],
          "name": "stdout"
        }
      ]
    },
    {
      "cell_type": "code",
      "metadata": {
        "id": "3yaN-fbqhwCm",
        "outputId": "222aa076-d089-45b6-f2eb-753083afbc61",
        "colab": {
          "base_uri": "https://localhost:8080/"
        }
      },
      "source": [
        "# When using integer array indexing, you can reuse the same\n",
        "# element from the source array:\n",
        "print(a2[[0,0], [1,1]]) # prints [2,2]"
      ],
      "execution_count": 59,
      "outputs": [
        {
          "output_type": "stream",
          "text": [
            "[2 2]\n"
          ],
          "name": "stdout"
        }
      ]
    },
    {
      "cell_type": "code",
      "metadata": {
        "id": "f0d1stzyimZw",
        "outputId": "a945a075-9518-4739-924e-72d2375cbe97",
        "colab": {
          "base_uri": "https://localhost:8080/"
        }
      },
      "source": [
        "# Equivalent to the previous integer array indexing example\n",
        "print(np.array([a2[0,1], a2[0,1]]))  # prints[2,2]"
      ],
      "execution_count": 60,
      "outputs": [
        {
          "output_type": "stream",
          "text": [
            "[2 2]\n"
          ],
          "name": "stdout"
        }
      ]
    },
    {
      "cell_type": "markdown",
      "metadata": {
        "id": "OvxMx2zcjTJQ"
      },
      "source": [
        "### One useful trick with integer array indexing is selecting or mutating one element from each row of a matrix:"
      ]
    },
    {
      "cell_type": "code",
      "metadata": {
        "id": "uCbBxq-Uje8X",
        "outputId": "e03ce62c-f23c-4666-ce80-44ab286cdcdd",
        "colab": {
          "base_uri": "https://localhost:8080/"
        }
      },
      "source": [
        "# Create a new array from which we will select elements\n",
        "\n",
        "a3 = np.array([[1,2,3], [4,5,6], [7,8,9], [10, 11, 12]])\n",
        "print(a3)\n",
        "\n",
        "# create an array of indices\n",
        "b = np.array([0, 2, 0, 1])\n",
        "b"
      ],
      "execution_count": 61,
      "outputs": [
        {
          "output_type": "stream",
          "text": [
            "[[ 1  2  3]\n",
            " [ 4  5  6]\n",
            " [ 7  8  9]\n",
            " [10 11 12]]\n"
          ],
          "name": "stdout"
        },
        {
          "output_type": "execute_result",
          "data": {
            "text/plain": [
              "array([0, 2, 0, 1])"
            ]
          },
          "metadata": {
            "tags": []
          },
          "execution_count": 61
        }
      ]
    },
    {
      "cell_type": "code",
      "metadata": {
        "id": "WlDfoQuTjw_6",
        "outputId": "79457607-c0e6-4577-e6c0-d7793a806caf",
        "colab": {
          "base_uri": "https://localhost:8080/"
        }
      },
      "source": [
        "# Select one element from each row of a using the indices in b\n",
        "print(a3[np.arange(4), b])"
      ],
      "execution_count": 62,
      "outputs": [
        {
          "output_type": "stream",
          "text": [
            "[ 1  6  7 11]\n"
          ],
          "name": "stdout"
        }
      ]
    },
    {
      "cell_type": "code",
      "metadata": {
        "id": "SEdMxsVEkxre",
        "outputId": "d56066e7-5042-49af-c7c2-7fdedef6d9a4",
        "colab": {
          "base_uri": "https://localhost:8080/"
        }
      },
      "source": [
        "# Mutate one element from each row of a using the indices in b\n",
        "a3[np.arange(4), b] += 10\n",
        "print(a3)"
      ],
      "execution_count": 63,
      "outputs": [
        {
          "output_type": "stream",
          "text": [
            "[[11  2  3]\n",
            " [ 4  5 16]\n",
            " [17  8  9]\n",
            " [10 21 12]]\n"
          ],
          "name": "stdout"
        }
      ]
    },
    {
      "cell_type": "code",
      "metadata": {
        "id": "_zw21kHalIfp",
        "outputId": "2995b4b2-7520-4d51-cbcb-39e2ad82280c",
        "colab": {
          "base_uri": "https://localhost:8080/"
        }
      },
      "source": [
        "c = np.array([2, 1, 0, 1])\n",
        "print(c)"
      ],
      "execution_count": 64,
      "outputs": [
        {
          "output_type": "stream",
          "text": [
            "[2 1 0 1]\n"
          ],
          "name": "stdout"
        }
      ]
    },
    {
      "cell_type": "code",
      "metadata": {
        "id": "nYn8kBW5lkOK",
        "outputId": "461fb6db-1103-4fd1-c9ed-00fc85194520",
        "colab": {
          "base_uri": "https://localhost:8080/"
        }
      },
      "source": [
        "a3[np.arange(4), c] += 100\n",
        "print(a3)"
      ],
      "execution_count": 65,
      "outputs": [
        {
          "output_type": "stream",
          "text": [
            "[[ 11   2 103]\n",
            " [  4 105  16]\n",
            " [117   8   9]\n",
            " [ 10 121  12]]\n"
          ],
          "name": "stdout"
        }
      ]
    },
    {
      "cell_type": "markdown",
      "metadata": {
        "id": "q3ZfL1rfl0KF"
      },
      "source": [
        "# Boolean array indexing:\n",
        "\n",
        "#### Boolean array indexing lets you pick out arbitrary elements of an array. Frequently this type of indexing is used to select the elements of an array that satisfy some condition. Here is an example:"
      ]
    },
    {
      "cell_type": "code",
      "metadata": {
        "id": "n1oC5x6hmN-c",
        "outputId": "e10e5bd0-cfcf-43f3-f691-b634aeeeba6f",
        "colab": {
          "base_uri": "https://localhost:8080/"
        }
      },
      "source": [
        "a4 = np.array([[1,2], [3,4], [5,6], [7, 8]])\n",
        "bool_idx = (a4 > 2) # Find the elements of a that are bigger than 2;\n",
        "                     # this returns a numpy array of Booleans of the same\n",
        "                     # shape as a, where each slot of bool_idx tells\n",
        "                     # whether that element of a is > 2\n",
        "\n",
        "print(bool_idx)"
      ],
      "execution_count": 66,
      "outputs": [
        {
          "output_type": "stream",
          "text": [
            "[[False False]\n",
            " [ True  True]\n",
            " [ True  True]\n",
            " [ True  True]]\n"
          ],
          "name": "stdout"
        }
      ]
    },
    {
      "cell_type": "code",
      "metadata": {
        "id": "i6k8xH_omp7I",
        "outputId": "2b274751-5f74-4256-97fb-b33be164481e",
        "colab": {
          "base_uri": "https://localhost:8080/"
        }
      },
      "source": [
        "# We use boolean array indexing to construct a rank 1 array\n",
        "# consisting of the elements of a corresponding to the True values\n",
        "# of bool_idx\n",
        "\n",
        "print(a4[bool_idx])"
      ],
      "execution_count": 67,
      "outputs": [
        {
          "output_type": "stream",
          "text": [
            "[3 4 5 6 7 8]\n"
          ],
          "name": "stdout"
        }
      ]
    },
    {
      "cell_type": "code",
      "metadata": {
        "id": "7WjRwidnm3r6",
        "outputId": "fd131668-4f8e-4ed1-9f52-10553fed2443",
        "colab": {
          "base_uri": "https://localhost:8080/"
        }
      },
      "source": [
        "# We can do all of the above in a single concise statement:\n",
        "print(a4[a4 > 2])"
      ],
      "execution_count": 68,
      "outputs": [
        {
          "output_type": "stream",
          "text": [
            "[3 4 5 6 7 8]\n"
          ],
          "name": "stdout"
        }
      ]
    },
    {
      "cell_type": "markdown",
      "metadata": {
        "id": "botSqTZco4b2"
      },
      "source": [
        "# Array math\n",
        "\n",
        "#### Note that unlike MATLAB, * is elementwise multiplication, not matrix multiplication. We instead use the dot function to compute inner products of vectors, to multiply a vector by a matrix, and to multiply matrices. dot is available both as a function in the numpy module and as an instance method of array objects:"
      ]
    },
    {
      "cell_type": "code",
      "metadata": {
        "id": "2VBpVW6Tpscj",
        "outputId": "c0f723ce-c5a3-44d1-ba5c-236372266766",
        "colab": {
          "base_uri": "https://localhost:8080/"
        }
      },
      "source": [
        "x = np.array([[1,2], [3,4]])\n",
        "y = np.array([[5,6], [7,8]])\n",
        "\n",
        "\n",
        "v = np.array([9,10])\n",
        "w = np.array([11, 12])\n",
        "\n",
        "# Inner product of vectors; both produce 219\n",
        "print(v.dot(w))"
      ],
      "execution_count": 69,
      "outputs": [
        {
          "output_type": "stream",
          "text": [
            "219\n"
          ],
          "name": "stdout"
        }
      ]
    },
    {
      "cell_type": "code",
      "metadata": {
        "id": "E0Aj2Kooqa_L",
        "outputId": "42d78750-45b0-4fa4-b2c5-bffd29701ee8",
        "colab": {
          "base_uri": "https://localhost:8080/"
        }
      },
      "source": [
        "# Matrix / vector product; both produce the rank 1 array [29 67]\n",
        "print(x.dot(v))\n",
        "print(np.dot(x, v))"
      ],
      "execution_count": 70,
      "outputs": [
        {
          "output_type": "stream",
          "text": [
            "[29 67]\n",
            "[29 67]\n"
          ],
          "name": "stdout"
        }
      ]
    },
    {
      "cell_type": "code",
      "metadata": {
        "id": "JCwekiCrq5Lv",
        "outputId": "8e3831e9-2fc4-43de-e628-0898fa251795",
        "colab": {
          "base_uri": "https://localhost:8080/"
        }
      },
      "source": [
        "# Matrix / matrix product; both produce the rank 2 array\n",
        "print(x.dot(y))\n",
        "print(np.dot(x,y))"
      ],
      "execution_count": 71,
      "outputs": [
        {
          "output_type": "stream",
          "text": [
            "[[19 22]\n",
            " [43 50]]\n",
            "[[19 22]\n",
            " [43 50]]\n"
          ],
          "name": "stdout"
        }
      ]
    },
    {
      "cell_type": "code",
      "metadata": {
        "id": "Po21S5xSrQyT",
        "outputId": "065bede2-582c-45a9-e413-8717126f7e4d",
        "colab": {
          "base_uri": "https://localhost:8080/"
        }
      },
      "source": [
        "print(np.sum(x)) # # Compute sum of all elements; prints \"10\""
      ],
      "execution_count": 73,
      "outputs": [
        {
          "output_type": "stream",
          "text": [
            "10\n"
          ],
          "name": "stdout"
        }
      ]
    },
    {
      "cell_type": "code",
      "metadata": {
        "id": "Wopc8HUEEtjO",
        "outputId": "af14e5d1-ec3c-48c8-e8e7-9a190d0672d5",
        "colab": {
          "base_uri": "https://localhost:8080/"
        }
      },
      "source": [
        "print(np.sum(x, axis=0))  #  # Compute sum of each column; prints \"[4 6]\""
      ],
      "execution_count": 75,
      "outputs": [
        {
          "output_type": "stream",
          "text": [
            "[4 6]\n"
          ],
          "name": "stdout"
        }
      ]
    },
    {
      "cell_type": "code",
      "metadata": {
        "id": "O-hEtERXE75s",
        "outputId": "e1142af9-4139-4cc5-e241-97c227f5f1fd",
        "colab": {
          "base_uri": "https://localhost:8080/"
        }
      },
      "source": [
        "print(np.sum(x, axis=1))  # Compute sum of each row; prints \"[3 7]\""
      ],
      "execution_count": 77,
      "outputs": [
        {
          "output_type": "stream",
          "text": [
            "[3 7]\n"
          ],
          "name": "stdout"
        }
      ]
    },
    {
      "cell_type": "markdown",
      "metadata": {
        "id": "Yd8tLrIvFR6N"
      },
      "source": [
        "#### Apart from computing mathematical functions using arrays, we frequently need to reshape or otherwise manipulate data in arrays. The simplest example of this type of operation is transposing a matrix; to transpose a matrix, simply use the T attribute of an array object:"
      ]
    },
    {
      "cell_type": "code",
      "metadata": {
        "id": "_JA8h03ZFdow",
        "outputId": "c0dab05d-eb41-4b26-d6fb-1641ec883956",
        "colab": {
          "base_uri": "https://localhost:8080/"
        }
      },
      "source": [
        "print(x, x.shape)"
      ],
      "execution_count": 79,
      "outputs": [
        {
          "output_type": "stream",
          "text": [
            "[[1 2]\n",
            " [3 4]] (2, 2)\n"
          ],
          "name": "stdout"
        }
      ]
    },
    {
      "cell_type": "code",
      "metadata": {
        "id": "gq0DyUewFiv6",
        "outputId": "d0e76e81-2669-4b37-862a-743611a3da44",
        "colab": {
          "base_uri": "https://localhost:8080/"
        }
      },
      "source": [
        "print(x.T, x.T.shape)"
      ],
      "execution_count": 80,
      "outputs": [
        {
          "output_type": "stream",
          "text": [
            "[[1 3]\n",
            " [2 4]] (2, 2)\n"
          ],
          "name": "stdout"
        }
      ]
    },
    {
      "cell_type": "code",
      "metadata": {
        "id": "F33G5VffF6eN",
        "outputId": "5866e0a7-37d8-4541-86e4-93d29125495d",
        "colab": {
          "base_uri": "https://localhost:8080/"
        }
      },
      "source": [
        "# Note that taking the transpose of a rank 1 array does nothing:\n",
        "v = np.array([1,2,3])\n",
        "print(v)\n",
        "print(v.T)"
      ],
      "execution_count": 81,
      "outputs": [
        {
          "output_type": "stream",
          "text": [
            "[1 2 3]\n",
            "[1 2 3]\n"
          ],
          "name": "stdout"
        }
      ]
    },
    {
      "cell_type": "markdown",
      "metadata": {
        "id": "HV4SPTHSGUoB"
      },
      "source": [
        "# Broadcasting\n",
        "\n",
        "#### Broadcasting is a powerful mechanism that allows numpy to work with arrays of different shapes when performing arithmetic operations. Frequently we have a smaller array and a larger array, and we want to use the smaller array multiple times to perform some operation on the larger array.\n",
        "\n",
        "#### For example, suppose that we want to add a constant vector to each row of a matrix. We could do it like this:"
      ]
    },
    {
      "cell_type": "code",
      "metadata": {
        "id": "Y9J73I1kGyJQ",
        "outputId": "aabaa91f-18ba-44d0-fc98-c426e66f6d65",
        "colab": {
          "base_uri": "https://localhost:8080/"
        }
      },
      "source": [
        "# We will add the vector v to each row of the matrix x,\n",
        "# storing the result in the matrix y\n",
        "\n",
        "x = np.array([[1,2,3], [4,5,6], [7,8,9], [10, 11, 12]])\n",
        "v = np.array([1,0,1])\n",
        "\n",
        "y = np.empty_like(x) # # Create an empty matrix with the same shape as x\n",
        "\n",
        "# Add the vector v to each row of the matrix x with an explicit loop\n",
        "\n",
        "for i in range(4):\n",
        "  y[i, :] = x[i, :] + v\n",
        "\n",
        "# Now y is the following\n",
        "# [[ 2  2  4]\n",
        "#  [ 5  5  7]\n",
        "#  [ 8  8 10]\n",
        "#  [11 11 13]]\n",
        "\n",
        "print(y)"
      ],
      "execution_count": 86,
      "outputs": [
        {
          "output_type": "stream",
          "text": [
            "[[ 2  2  4]\n",
            " [ 5  5  7]\n",
            " [ 8  8 10]\n",
            " [11 11 13]]\n"
          ],
          "name": "stdout"
        }
      ]
    },
    {
      "cell_type": "markdown",
      "metadata": {
        "id": "jsT3g3t9H5q4"
      },
      "source": [
        "#### This works; however when the matrix `x` is very large, computing an explicit loop in Python could be slow. Note that adding the vector `v` to each row of the matrix `x` is equivalent to forming a matrix `vv` by stacking multiple copies of `v` vertically, then performing elementwise summation of `x` and `vv`. We could implement this approach like this:"
      ]
    },
    {
      "cell_type": "code",
      "metadata": {
        "id": "hHOEmlZFK8ko",
        "outputId": "1e3b4647-e2fd-4f7c-8262-3b1c6e3b7571",
        "colab": {
          "base_uri": "https://localhost:8080/"
        }
      },
      "source": [
        "# We will add the vector v to each row of the matrix x,\n",
        "# storing the result in the matrix y\n",
        "\n",
        "x = np.array([[1,2,3], [4,5,6], [7,8,9], [10, 11, 12]])\n",
        "v = np.array([1, 0, 1])\n",
        "\n",
        "vv = np.tile(v, (4,1)) # Stack 4 copies of v on top of each other\n",
        "print(vv) # Prints \"[[1 0 1]\n",
        "          #          [1 0 1]\n",
        "          #          [1 0 1]\n",
        "          #          [1 0 1]]\"\n",
        "y = x + vv\n",
        "print(y)"
      ],
      "execution_count": 93,
      "outputs": [
        {
          "output_type": "stream",
          "text": [
            "[[ 2  2  4]\n",
            " [ 5  5  7]\n",
            " [ 8  8 10]\n",
            " [11 11 13]]\n"
          ],
          "name": "stdout"
        }
      ]
    },
    {
      "cell_type": "code",
      "metadata": {
        "id": "Gjl50RzPMObf"
      },
      "source": [
        ""
      ],
      "execution_count": null,
      "outputs": []
    }
  ]
}